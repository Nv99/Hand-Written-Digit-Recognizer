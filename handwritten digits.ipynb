{
 "cells": [
  {
   "cell_type": "code",
   "execution_count": 6,
   "metadata": {},
   "outputs": [
    {
     "name": "stdout",
     "output_type": "stream",
     "text": [
      "\n",
      "WARNING: The TensorFlow contrib module will not be included in TensorFlow 2.0.\n",
      "For more information, please see:\n",
      "  * https://github.com/tensorflow/community/blob/master/rfcs/20180907-contrib-sunset.md\n",
      "  * https://github.com/tensorflow/addons\n",
      "If you depend on functionality not listed there, please file an issue.\n",
      "\n"
     ]
    }
   ],
   "source": [
    "from  __future__ import absolute_import,division,print_function,unicode_literals\n",
    "\n",
    "import tensorflow as tf\n",
    "import tensorflow_datasets as tfds\n",
    "tf.logging.set_verbosity(tf.logging.ERROR)\n",
    "\n",
    "import math\n",
    "import numpy as np\n",
    "import matplotlib.pyplot as plt\n",
    "\n",
    "import tqdm\n",
    "import tqdm.auto\n",
    "tqdm.tqdm=tqdm.auto.tqdm"
   ]
  },
  {
   "cell_type": "code",
   "execution_count": 7,
   "metadata": {},
   "outputs": [],
   "source": [
    "(x_train, y_train), (x_test, y_test) = tf.keras.datasets.mnist.load_data()"
   ]
  },
  {
   "cell_type": "code",
   "execution_count": 8,
   "metadata": {},
   "outputs": [
    {
     "name": "stdout",
     "output_type": "stream",
     "text": [
      "8\n"
     ]
    },
    {
     "data": {
      "text/plain": [
       "<matplotlib.image.AxesImage at 0x1a0c4090c88>"
      ]
     },
     "execution_count": 8,
     "metadata": {},
     "output_type": "execute_result"
    },
    {
     "data": {
      "image/png": "[encoded data removed]",
      "text/plain": [
       "<Figure size 432x288 with 1 Axes>"
      ]
     },
     "metadata": {
      "needs_background": "light"
     },
     "output_type": "display_data"
    }
   ],
   "source": [
    "image_index = 7777 # You may select anything up to 60,000\n",
    "print(y_train[image_index]) # The label is 8\n",
    "plt.imshow(x_train[image_index], cmap='Greys')\n"
   ]
  },
  {
   "cell_type": "code",
   "execution_count": 9,
   "metadata": {},
   "outputs": [
    {
     "data": {
      "text/plain": [
       "(60000, 28, 28)"
      ]
     },
     "execution_count": 9,
     "metadata": {},
     "output_type": "execute_result"
    }
   ],
   "source": [
    "x_train.shape"
   ]
  },
  {
   "cell_type": "code",
   "execution_count": 10,
   "metadata": {},
   "outputs": [],
   "source": [
    "x_train = x_train.reshape(x_train.shape[0], 28, 28, 1)\n",
    "x_test = x_test.reshape(x_test.shape[0], 28, 28, 1)\n",
    "input_shape = (28, 28, 1)"
   ]
  },
  {
   "cell_type": "code",
   "execution_count": 11,
   "metadata": {},
   "outputs": [
    {
     "name": "stdout",
     "output_type": "stream",
     "text": [
      "x_train shape: (60000, 28, 28, 1)\n",
      "Number of images in x_train 60000\n",
      "Number of images in x_test 10000\n"
     ]
    }
   ],
   "source": [
    "x_train = x_train.astype('float32')\n",
    "x_test = x_test.astype('float32')\n",
    "# Normalizing the RGB codes by dividing it to the max RGB value.\n",
    "x_train /= 255\n",
    "x_test /= 255\n",
    "print('x_train shape:', x_train.shape)\n",
    "print('Number of images in x_train', x_train.shape[0])\n",
    "print('Number of images in x_test', x_test.shape[0])"
   ]
  },
  {
   "cell_type": "code",
   "execution_count": 12,
   "metadata": {},
   "outputs": [
    {
     "name": "stderr",
     "output_type": "stream",
     "text": [
      "Using TensorFlow backend.\n"
     ]
    }
   ],
   "source": [
    "from keras.models import Sequential\n",
    "from keras.layers import Dense, Conv2D, Dropout, Flatten, MaxPooling2D\n",
    "# Creating a Sequential Model and adding the layers\n",
    "model = Sequential()\n",
    "model.add(Conv2D(28, kernel_size=(3,3), input_shape=input_shape))\n",
    "model.add(MaxPooling2D(pool_size=(2, 2)))\n",
    "model.add(Flatten()) # Flattening the 2D arrays for fully connected layers\n",
    "model.add(Dense(128, activation=tf.nn.relu))\n",
    "model.add(Dropout(0.2))\n",
    "model.add(Dense(10,activation=tf.nn.softmax))"
   ]
  },
  {
   "cell_type": "code",
   "execution_count": 13,
   "metadata": {},
   "outputs": [
    {
     "data": {
      "text/plain": [
       "1000"
      ]
     },
     "execution_count": 13,
     "metadata": {},
     "output_type": "execute_result"
    }
   ],
   "source": [
    "x_train=x_train[:10000]\n",
    "x_test=x_test[:1000]\n",
    "y_train=y_train[:10000]\n",
    "y_test=y_test[:1000]\n",
    "x_train.shape[0]\n",
    "x_test.shape[0]"
   ]
  },
  {
   "cell_type": "code",
   "execution_count": 14,
   "metadata": {},
   "outputs": [],
   "source": [
    "model.compile(optimizer='adam', \n",
    "              loss='sparse_categorical_crossentropy', \n",
    "              metrics=['accuracy'])"
   ]
  },
  {
   "cell_type": "code",
   "execution_count": 15,
   "metadata": {
    "scrolled": true
   },
   "outputs": [
    {
     "name": "stdout",
     "output_type": "stream",
     "text": [
      "Epoch 1/5\n",
      "10000/10000 [==============================] - ETA: 1:50 - loss: 2.2754 - acc: 0.281 - ETA: 43s - loss: 2.2177 - acc: 0.312 - ETA: 29s - loss: 2.1509 - acc: 0.31 - ETA: 23s - loss: 2.0673 - acc: 0.37 - ETA: 19s - loss: 2.0052 - acc: 0.40 - ETA: 17s - loss: 1.9060 - acc: 0.45 - ETA: 15s - loss: 1.8189 - acc: 0.48 - ETA: 14s - loss: 1.7233 - acc: 0.51 - ETA: 13s - loss: 1.5849 - acc: 0.55 - ETA: 12s - loss: 1.5584 - acc: 0.55 - ETA: 12s - loss: 1.4876 - acc: 0.58 - ETA: 11s - loss: 1.3880 - acc: 0.61 - ETA: 11s - loss: 1.3352 - acc: 0.62 - ETA: 10s - loss: 1.2954 - acc: 0.63 - ETA: 10s - loss: 1.2448 - acc: 0.64 - ETA: 10s - loss: 1.2075 - acc: 0.65 - ETA: 9s - loss: 1.1581 - acc: 0.6667 - ETA: 9s - loss: 1.1382 - acc: 0.668 - ETA: 9s - loss: 1.0998 - acc: 0.681 - ETA: 9s - loss: 1.0793 - acc: 0.686 - ETA: 9s - loss: 1.0554 - acc: 0.691 - ETA: 9s - loss: 1.0292 - acc: 0.697 - ETA: 8s - loss: 1.0013 - acc: 0.706 - ETA: 8s - loss: 0.9881 - acc: 0.708 - ETA: 8s - loss: 0.9693 - acc: 0.713 - ETA: 8s - loss: 0.9460 - acc: 0.721 - ETA: 8s - loss: 0.9241 - acc: 0.727 - ETA: 8s - loss: 0.9115 - acc: 0.730 - ETA: 8s - loss: 0.9011 - acc: 0.731 - ETA: 8s - loss: 0.8895 - acc: 0.734 - ETA: 8s - loss: 0.8763 - acc: 0.738 - ETA: 7s - loss: 0.8662 - acc: 0.740 - ETA: 7s - loss: 0.8533 - acc: 0.744 - ETA: 7s - loss: 0.8423 - acc: 0.748 - ETA: 7s - loss: 0.8329 - acc: 0.749 - ETA: 7s - loss: 0.8226 - acc: 0.752 - ETA: 7s - loss: 0.8138 - acc: 0.754 - ETA: 7s - loss: 0.7993 - acc: 0.759 - ETA: 7s - loss: 0.7921 - acc: 0.762 - ETA: 7s - loss: 0.7885 - acc: 0.764 - ETA: 7s - loss: 0.7789 - acc: 0.767 - ETA: 7s - loss: 0.7698 - acc: 0.770 - ETA: 7s - loss: 0.7636 - acc: 0.772 - ETA: 6s - loss: 0.7601 - acc: 0.773 - ETA: 6s - loss: 0.7499 - acc: 0.775 - ETA: 6s - loss: 0.7447 - acc: 0.777 - ETA: 6s - loss: 0.7347 - acc: 0.780 - ETA: 6s - loss: 0.7311 - acc: 0.781 - ETA: 6s - loss: 0.7255 - acc: 0.783 - ETA: 6s - loss: 0.7264 - acc: 0.783 - ETA: 6s - loss: 0.7194 - acc: 0.785 - ETA: 6s - loss: 0.7109 - acc: 0.788 - ETA: 6s - loss: 0.7043 - acc: 0.789 - ETA: 6s - loss: 0.7022 - acc: 0.790 - ETA: 6s - loss: 0.6982 - acc: 0.791 - ETA: 6s - loss: 0.6935 - acc: 0.792 - ETA: 5s - loss: 0.6879 - acc: 0.793 - ETA: 5s - loss: 0.6852 - acc: 0.794 - ETA: 5s - loss: 0.6836 - acc: 0.795 - ETA: 5s - loss: 0.6786 - acc: 0.796 - ETA: 5s - loss: 0.6753 - acc: 0.797 - ETA: 5s - loss: 0.6708 - acc: 0.799 - ETA: 5s - loss: 0.6662 - acc: 0.801 - ETA: 5s - loss: 0.6613 - acc: 0.801 - ETA: 5s - loss: 0.6567 - acc: 0.803 - ETA: 5s - loss: 0.6543 - acc: 0.804 - ETA: 5s - loss: 0.6496 - acc: 0.804 - ETA: 5s - loss: 0.6454 - acc: 0.806 - ETA: 5s - loss: 0.6396 - acc: 0.808 - ETA: 5s - loss: 0.6345 - acc: 0.810 - ETA: 5s - loss: 0.6293 - acc: 0.811 - ETA: 5s - loss: 0.6260 - acc: 0.812 - ETA: 4s - loss: 0.6228 - acc: 0.814 - ETA: 4s - loss: 0.6185 - acc: 0.815 - ETA: 4s - loss: 0.6122 - acc: 0.816 - ETA: 4s - loss: 0.6116 - acc: 0.817 - ETA: 4s - loss: 0.6101 - acc: 0.817 - ETA: 4s - loss: 0.6065 - acc: 0.818 - ETA: 4s - loss: 0.6022 - acc: 0.819 - ETA: 4s - loss: 0.5966 - acc: 0.821 - ETA: 4s - loss: 0.5931 - acc: 0.822 - ETA: 4s - loss: 0.5901 - acc: 0.822 - ETA: 4s - loss: 0.5873 - acc: 0.823 - ETA: 4s - loss: 0.5828 - acc: 0.825 - ETA: 4s - loss: 0.5782 - acc: 0.826 - ETA: 4s - loss: 0.5759 - acc: 0.827 - ETA: 4s - loss: 0.5717 - acc: 0.828 - ETA: 4s - loss: 0.5687 - acc: 0.829 - ETA: 3s - loss: 0.5655 - acc: 0.830 - ETA: 3s - loss: 0.5604 - acc: 0.831 - ETA: 3s - loss: 0.5577 - acc: 0.832 - ETA: 3s - loss: 0.5537 - acc: 0.833 - ETA: 3s - loss: 0.5515 - acc: 0.835 - ETA: 3s - loss: 0.5492 - acc: 0.835 - ETA: 3s - loss: 0.5468 - acc: 0.836 - ETA: 3s - loss: 0.5458 - acc: 0.837 - ETA: 3s - loss: 0.5438 - acc: 0.837 - ETA: 3s - loss: 0.5409 - acc: 0.838 - ETA: 3s - loss: 0.5374 - acc: 0.839 - ETA: 3s - loss: 0.5345 - acc: 0.840 - ETA: 3s - loss: 0.5311 - acc: 0.841 - ETA: 3s - loss: 0.5288 - acc: 0.842 - ETA: 3s - loss: 0.5272 - acc: 0.842 - ETA: 2s - loss: 0.5245 - acc: 0.843 - ETA: 2s - loss: 0.5242 - acc: 0.843 - ETA: 2s - loss: 0.5211 - acc: 0.845 - ETA: 2s - loss: 0.5207 - acc: 0.845 - ETA: 2s - loss: 0.5184 - acc: 0.845 - ETA: 2s - loss: 0.5195 - acc: 0.845 - ETA: 2s - loss: 0.5180 - acc: 0.846 - ETA: 2s - loss: 0.5149 - acc: 0.847 - ETA: 2s - loss: 0.5143 - acc: 0.847 - ETA: 2s - loss: 0.5121 - acc: 0.848 - ETA: 2s - loss: 0.5102 - acc: 0.848 - ETA: 2s - loss: 0.5088 - acc: 0.848 - ETA: 2s - loss: 0.5074 - acc: 0.848 - ETA: 2s - loss: 0.5056 - acc: 0.849 - ETA: 2s - loss: 0.5036 - acc: 0.850 - ETA: 2s - loss: 0.5036 - acc: 0.850 - ETA: 2s - loss: 0.5010 - acc: 0.850 - ETA: 1s - loss: 0.4992 - acc: 0.851 - ETA: 1s - loss: 0.4966 - acc: 0.852 - ETA: 1s - loss: 0.4956 - acc: 0.853 - ETA: 1s - loss: 0.4945 - acc: 0.853 - ETA: 1s - loss: 0.4927 - acc: 0.853 - ETA: 1s - loss: 0.4910 - acc: 0.854 - ETA: 1s - loss: 0.4896 - acc: 0.854 - ETA: 1s - loss: 0.4872 - acc: 0.855 - ETA: 1s - loss: 0.4861 - acc: 0.855 - ETA: 1s - loss: 0.4854 - acc: 0.855 - ETA: 1s - loss: 0.4838 - acc: 0.855 - ETA: 1s - loss: 0.4824 - acc: 0.856 - ETA: 1s - loss: 0.4801 - acc: 0.856 - ETA: 1s - loss: 0.4783 - acc: 0.857 - ETA: 1s - loss: 0.4760 - acc: 0.858 - ETA: 1s - loss: 0.4745 - acc: 0.858 - ETA: 1s - loss: 0.4724 - acc: 0.859 - ETA: 0s - loss: 0.4705 - acc: 0.860 - ETA: 0s - loss: 0.4685 - acc: 0.860 - ETA: 0s - loss: 0.4665 - acc: 0.861 - ETA: 0s - loss: 0.4654 - acc: 0.862 - ETA: 0s - loss: 0.4632 - acc: 0.862 - ETA: 0s - loss: 0.4610 - acc: 0.863 - ETA: 0s - loss: 0.4602 - acc: 0.863 - ETA: 0s - loss: 0.4590 - acc: 0.864 - ETA: 0s - loss: 0.4579 - acc: 0.864 - ETA: 0s - loss: 0.4566 - acc: 0.865 - ETA: 0s - loss: 0.4552 - acc: 0.865 - ETA: 0s - loss: 0.4544 - acc: 0.865 - ETA: 0s - loss: 0.4530 - acc: 0.866 - ETA: 0s - loss: 0.4536 - acc: 0.866 - ETA: 0s - loss: 0.4534 - acc: 0.866 - ETA: 0s - loss: 0.4524 - acc: 0.866 - ETA: 0s - loss: 0.4517 - acc: 0.866 - 9s 913us/step - loss: 0.4512 - acc: 0.8666\n",
      "Epoch 2/5\n"
     ]
    },
    {
     "name": "stdout",
     "output_type": "stream",
     "text": [
      "10000/10000 [==============================] - ETA: 8s - loss: 0.0760 - acc: 1.000 - ETA: 9s - loss: 0.2325 - acc: 0.947 - ETA: 9s - loss: 0.2391 - acc: 0.931 - ETA: 9s - loss: 0.2939 - acc: 0.919 - ETA: 9s - loss: 0.2787 - acc: 0.927 - ETA: 8s - loss: 0.2622 - acc: 0.931 - ETA: 8s - loss: 0.2652 - acc: 0.932 - ETA: 8s - loss: 0.2422 - acc: 0.939 - ETA: 8s - loss: 0.2424 - acc: 0.937 - ETA: 8s - loss: 0.2504 - acc: 0.932 - ETA: 8s - loss: 0.2497 - acc: 0.931 - ETA: 8s - loss: 0.2357 - acc: 0.937 - ETA: 8s - loss: 0.2350 - acc: 0.938 - ETA: 8s - loss: 0.2412 - acc: 0.936 - ETA: 8s - loss: 0.2382 - acc: 0.936 - ETA: 8s - loss: 0.2342 - acc: 0.938 - ETA: 8s - loss: 0.2362 - acc: 0.934 - ETA: 7s - loss: 0.2316 - acc: 0.935 - ETA: 7s - loss: 0.2219 - acc: 0.939 - ETA: 7s - loss: 0.2258 - acc: 0.937 - ETA: 7s - loss: 0.2235 - acc: 0.937 - ETA: 7s - loss: 0.2213 - acc: 0.937 - ETA: 7s - loss: 0.2183 - acc: 0.938 - ETA: 7s - loss: 0.2159 - acc: 0.939 - ETA: 7s - loss: 0.2127 - acc: 0.941 - ETA: 7s - loss: 0.2149 - acc: 0.940 - ETA: 7s - loss: 0.2179 - acc: 0.939 - ETA: 7s - loss: 0.2146 - acc: 0.939 - ETA: 7s - loss: 0.2154 - acc: 0.939 - ETA: 7s - loss: 0.2168 - acc: 0.938 - ETA: 7s - loss: 0.2133 - acc: 0.939 - ETA: 7s - loss: 0.2106 - acc: 0.939 - ETA: 6s - loss: 0.2094 - acc: 0.939 - ETA: 6s - loss: 0.2077 - acc: 0.940 - ETA: 6s - loss: 0.2070 - acc: 0.939 - ETA: 6s - loss: 0.2072 - acc: 0.940 - ETA: 6s - loss: 0.2104 - acc: 0.939 - ETA: 6s - loss: 0.2097 - acc: 0.939 - ETA: 6s - loss: 0.2091 - acc: 0.939 - ETA: 6s - loss: 0.2099 - acc: 0.938 - ETA: 6s - loss: 0.2086 - acc: 0.939 - ETA: 6s - loss: 0.2076 - acc: 0.940 - ETA: 6s - loss: 0.2079 - acc: 0.939 - ETA: 6s - loss: 0.2085 - acc: 0.940 - ETA: 6s - loss: 0.2078 - acc: 0.940 - ETA: 6s - loss: 0.2107 - acc: 0.938 - ETA: 6s - loss: 0.2117 - acc: 0.937 - ETA: 6s - loss: 0.2115 - acc: 0.937 - ETA: 6s - loss: 0.2107 - acc: 0.937 - ETA: 6s - loss: 0.2106 - acc: 0.937 - ETA: 5s - loss: 0.2119 - acc: 0.937 - ETA: 5s - loss: 0.2090 - acc: 0.938 - ETA: 5s - loss: 0.2099 - acc: 0.937 - ETA: 5s - loss: 0.2110 - acc: 0.936 - ETA: 5s - loss: 0.2113 - acc: 0.936 - ETA: 5s - loss: 0.2092 - acc: 0.937 - ETA: 5s - loss: 0.2079 - acc: 0.938 - ETA: 5s - loss: 0.2063 - acc: 0.938 - ETA: 5s - loss: 0.2051 - acc: 0.938 - ETA: 5s - loss: 0.2087 - acc: 0.937 - ETA: 5s - loss: 0.2088 - acc: 0.936 - ETA: 5s - loss: 0.2097 - acc: 0.936 - ETA: 5s - loss: 0.2084 - acc: 0.937 - ETA: 5s - loss: 0.2089 - acc: 0.937 - ETA: 5s - loss: 0.2093 - acc: 0.937 - ETA: 5s - loss: 0.2085 - acc: 0.938 - ETA: 4s - loss: 0.2070 - acc: 0.938 - ETA: 4s - loss: 0.2054 - acc: 0.939 - ETA: 4s - loss: 0.2068 - acc: 0.938 - ETA: 4s - loss: 0.2072 - acc: 0.938 - ETA: 4s - loss: 0.2075 - acc: 0.938 - ETA: 4s - loss: 0.2061 - acc: 0.939 - ETA: 4s - loss: 0.2046 - acc: 0.939 - ETA: 4s - loss: 0.2048 - acc: 0.939 - ETA: 4s - loss: 0.2043 - acc: 0.939 - ETA: 4s - loss: 0.2051 - acc: 0.939 - ETA: 4s - loss: 0.2047 - acc: 0.938 - ETA: 4s - loss: 0.2052 - acc: 0.938 - ETA: 4s - loss: 0.2068 - acc: 0.938 - ETA: 4s - loss: 0.2053 - acc: 0.939 - ETA: 4s - loss: 0.2048 - acc: 0.938 - ETA: 4s - loss: 0.2035 - acc: 0.939 - ETA: 4s - loss: 0.2036 - acc: 0.939 - ETA: 3s - loss: 0.2025 - acc: 0.939 - ETA: 3s - loss: 0.2026 - acc: 0.939 - ETA: 3s - loss: 0.2039 - acc: 0.939 - ETA: 3s - loss: 0.2026 - acc: 0.940 - ETA: 3s - loss: 0.2014 - acc: 0.940 - ETA: 3s - loss: 0.2020 - acc: 0.939 - ETA: 3s - loss: 0.2025 - acc: 0.939 - ETA: 3s - loss: 0.2021 - acc: 0.940 - ETA: 3s - loss: 0.2036 - acc: 0.940 - ETA: 3s - loss: 0.2032 - acc: 0.940 - ETA: 3s - loss: 0.2037 - acc: 0.940 - ETA: 3s - loss: 0.2047 - acc: 0.939 - ETA: 3s - loss: 0.2040 - acc: 0.940 - ETA: 3s - loss: 0.2030 - acc: 0.940 - ETA: 3s - loss: 0.2026 - acc: 0.940 - ETA: 3s - loss: 0.2027 - acc: 0.940 - ETA: 2s - loss: 0.2023 - acc: 0.939 - ETA: 2s - loss: 0.2026 - acc: 0.939 - ETA: 2s - loss: 0.2037 - acc: 0.939 - ETA: 2s - loss: 0.2027 - acc: 0.940 - ETA: 2s - loss: 0.2035 - acc: 0.939 - ETA: 2s - loss: 0.2033 - acc: 0.939 - ETA: 2s - loss: 0.2027 - acc: 0.939 - ETA: 2s - loss: 0.2030 - acc: 0.939 - ETA: 2s - loss: 0.2064 - acc: 0.938 - ETA: 2s - loss: 0.2071 - acc: 0.938 - ETA: 2s - loss: 0.2060 - acc: 0.938 - ETA: 2s - loss: 0.2049 - acc: 0.938 - ETA: 2s - loss: 0.2044 - acc: 0.938 - ETA: 2s - loss: 0.2046 - acc: 0.938 - ETA: 2s - loss: 0.2043 - acc: 0.939 - ETA: 2s - loss: 0.2035 - acc: 0.939 - ETA: 2s - loss: 0.2028 - acc: 0.939 - ETA: 1s - loss: 0.2026 - acc: 0.939 - ETA: 1s - loss: 0.2024 - acc: 0.939 - ETA: 1s - loss: 0.2021 - acc: 0.939 - ETA: 1s - loss: 0.2016 - acc: 0.939 - ETA: 1s - loss: 0.2024 - acc: 0.939 - ETA: 1s - loss: 0.2025 - acc: 0.939 - ETA: 1s - loss: 0.2018 - acc: 0.939 - ETA: 1s - loss: 0.2025 - acc: 0.939 - ETA: 1s - loss: 0.2038 - acc: 0.938 - ETA: 1s - loss: 0.2041 - acc: 0.938 - ETA: 1s - loss: 0.2029 - acc: 0.939 - ETA: 1s - loss: 0.2021 - acc: 0.939 - ETA: 1s - loss: 0.2019 - acc: 0.939 - ETA: 1s - loss: 0.2012 - acc: 0.939 - ETA: 1s - loss: 0.2022 - acc: 0.939 - ETA: 1s - loss: 0.2031 - acc: 0.939 - ETA: 1s - loss: 0.2027 - acc: 0.939 - ETA: 0s - loss: 0.2020 - acc: 0.939 - ETA: 0s - loss: 0.2013 - acc: 0.939 - ETA: 0s - loss: 0.2007 - acc: 0.939 - ETA: 0s - loss: 0.2007 - acc: 0.939 - ETA: 0s - loss: 0.2007 - acc: 0.939 - ETA: 0s - loss: 0.2002 - acc: 0.939 - ETA: 0s - loss: 0.2003 - acc: 0.939 - ETA: 0s - loss: 0.1994 - acc: 0.939 - ETA: 0s - loss: 0.2003 - acc: 0.939 - ETA: 0s - loss: 0.2020 - acc: 0.938 - ETA: 0s - loss: 0.2022 - acc: 0.938 - ETA: 0s - loss: 0.2017 - acc: 0.938 - ETA: 0s - loss: 0.2016 - acc: 0.938 - ETA: 0s - loss: 0.2019 - acc: 0.938 - ETA: 0s - loss: 0.2021 - acc: 0.938 - ETA: 0s - loss: 0.2022 - acc: 0.938 - ETA: 0s - loss: 0.2013 - acc: 0.938 - ETA: 0s - loss: 0.2005 - acc: 0.939 - 9s 868us/step - loss: 0.2004 - acc: 0.9391\n",
      "Epoch 3/5\n"
     ]
    },
    {
     "name": "stdout",
     "output_type": "stream",
     "text": [
      "10000/10000 [==============================] - ETA: 8s - loss: 0.1593 - acc: 0.937 - ETA: 8s - loss: 0.1439 - acc: 0.958 - ETA: 8s - loss: 0.1283 - acc: 0.962 - ETA: 8s - loss: 0.1208 - acc: 0.959 - ETA: 8s - loss: 0.1200 - acc: 0.954 - ETA: 8s - loss: 0.1054 - acc: 0.963 - ETA: 8s - loss: 0.1158 - acc: 0.963 - ETA: 8s - loss: 0.1243 - acc: 0.960 - ETA: 8s - loss: 0.1213 - acc: 0.961 - ETA: 8s - loss: 0.1231 - acc: 0.960 - ETA: 8s - loss: 0.1172 - acc: 0.962 - ETA: 8s - loss: 0.1185 - acc: 0.962 - ETA: 8s - loss: 0.1280 - acc: 0.960 - ETA: 8s - loss: 0.1345 - acc: 0.958 - ETA: 8s - loss: 0.1313 - acc: 0.960 - ETA: 8s - loss: 0.1323 - acc: 0.959 - ETA: 8s - loss: 0.1283 - acc: 0.962 - ETA: 8s - loss: 0.1238 - acc: 0.964 - ETA: 8s - loss: 0.1191 - acc: 0.966 - ETA: 8s - loss: 0.1167 - acc: 0.967 - ETA: 7s - loss: 0.1182 - acc: 0.967 - ETA: 7s - loss: 0.1243 - acc: 0.966 - ETA: 7s - loss: 0.1205 - acc: 0.968 - ETA: 7s - loss: 0.1184 - acc: 0.969 - ETA: 7s - loss: 0.1201 - acc: 0.968 - ETA: 7s - loss: 0.1165 - acc: 0.969 - ETA: 7s - loss: 0.1225 - acc: 0.967 - ETA: 7s - loss: 0.1319 - acc: 0.963 - ETA: 7s - loss: 0.1289 - acc: 0.964 - ETA: 7s - loss: 0.1311 - acc: 0.964 - ETA: 7s - loss: 0.1301 - acc: 0.964 - ETA: 7s - loss: 0.1292 - acc: 0.965 - ETA: 7s - loss: 0.1280 - acc: 0.965 - ETA: 7s - loss: 0.1270 - acc: 0.965 - ETA: 7s - loss: 0.1261 - acc: 0.966 - ETA: 6s - loss: 0.1325 - acc: 0.964 - ETA: 6s - loss: 0.1318 - acc: 0.964 - ETA: 6s - loss: 0.1300 - acc: 0.964 - ETA: 6s - loss: 0.1330 - acc: 0.964 - ETA: 6s - loss: 0.1319 - acc: 0.964 - ETA: 6s - loss: 0.1312 - acc: 0.964 - ETA: 6s - loss: 0.1317 - acc: 0.964 - ETA: 6s - loss: 0.1346 - acc: 0.964 - ETA: 6s - loss: 0.1347 - acc: 0.963 - ETA: 6s - loss: 0.1370 - acc: 0.963 - ETA: 6s - loss: 0.1350 - acc: 0.964 - ETA: 6s - loss: 0.1344 - acc: 0.964 - ETA: 6s - loss: 0.1326 - acc: 0.964 - ETA: 6s - loss: 0.1322 - acc: 0.964 - ETA: 6s - loss: 0.1335 - acc: 0.964 - ETA: 6s - loss: 0.1353 - acc: 0.963 - ETA: 5s - loss: 0.1367 - acc: 0.963 - ETA: 5s - loss: 0.1352 - acc: 0.963 - ETA: 5s - loss: 0.1346 - acc: 0.963 - ETA: 5s - loss: 0.1339 - acc: 0.963 - ETA: 5s - loss: 0.1348 - acc: 0.963 - ETA: 5s - loss: 0.1338 - acc: 0.963 - ETA: 5s - loss: 0.1354 - acc: 0.962 - ETA: 5s - loss: 0.1358 - acc: 0.962 - ETA: 5s - loss: 0.1347 - acc: 0.962 - ETA: 5s - loss: 0.1338 - acc: 0.962 - ETA: 5s - loss: 0.1328 - acc: 0.962 - ETA: 5s - loss: 0.1327 - acc: 0.962 - ETA: 5s - loss: 0.1337 - acc: 0.961 - ETA: 5s - loss: 0.1361 - acc: 0.960 - ETA: 5s - loss: 0.1351 - acc: 0.961 - ETA: 5s - loss: 0.1344 - acc: 0.961 - ETA: 5s - loss: 0.1337 - acc: 0.961 - ETA: 4s - loss: 0.1355 - acc: 0.961 - ETA: 4s - loss: 0.1347 - acc: 0.961 - ETA: 4s - loss: 0.1344 - acc: 0.961 - ETA: 4s - loss: 0.1362 - acc: 0.961 - ETA: 4s - loss: 0.1363 - acc: 0.960 - ETA: 4s - loss: 0.1361 - acc: 0.961 - ETA: 4s - loss: 0.1361 - acc: 0.961 - ETA: 4s - loss: 0.1367 - acc: 0.961 - ETA: 4s - loss: 0.1361 - acc: 0.961 - ETA: 4s - loss: 0.1363 - acc: 0.961 - ETA: 4s - loss: 0.1357 - acc: 0.961 - ETA: 4s - loss: 0.1341 - acc: 0.962 - ETA: 4s - loss: 0.1337 - acc: 0.961 - ETA: 4s - loss: 0.1336 - acc: 0.962 - ETA: 4s - loss: 0.1326 - acc: 0.962 - ETA: 3s - loss: 0.1335 - acc: 0.962 - ETA: 3s - loss: 0.1332 - acc: 0.962 - ETA: 3s - loss: 0.1324 - acc: 0.962 - ETA: 3s - loss: 0.1327 - acc: 0.962 - ETA: 3s - loss: 0.1328 - acc: 0.961 - ETA: 3s - loss: 0.1323 - acc: 0.961 - ETA: 3s - loss: 0.1327 - acc: 0.961 - ETA: 3s - loss: 0.1320 - acc: 0.961 - ETA: 3s - loss: 0.1315 - acc: 0.961 - ETA: 3s - loss: 0.1317 - acc: 0.961 - ETA: 3s - loss: 0.1310 - acc: 0.961 - ETA: 3s - loss: 0.1303 - acc: 0.961 - ETA: 3s - loss: 0.1301 - acc: 0.961 - ETA: 3s - loss: 0.1304 - acc: 0.962 - ETA: 3s - loss: 0.1301 - acc: 0.962 - ETA: 3s - loss: 0.1299 - acc: 0.962 - ETA: 2s - loss: 0.1300 - acc: 0.961 - ETA: 2s - loss: 0.1297 - acc: 0.962 - ETA: 2s - loss: 0.1305 - acc: 0.962 - ETA: 2s - loss: 0.1297 - acc: 0.962 - ETA: 2s - loss: 0.1306 - acc: 0.962 - ETA: 2s - loss: 0.1312 - acc: 0.962 - ETA: 2s - loss: 0.1313 - acc: 0.961 - ETA: 2s - loss: 0.1308 - acc: 0.961 - ETA: 2s - loss: 0.1305 - acc: 0.961 - ETA: 2s - loss: 0.1309 - acc: 0.961 - ETA: 2s - loss: 0.1310 - acc: 0.961 - ETA: 2s - loss: 0.1319 - acc: 0.961 - ETA: 2s - loss: 0.1315 - acc: 0.961 - ETA: 2s - loss: 0.1311 - acc: 0.961 - ETA: 2s - loss: 0.1308 - acc: 0.961 - ETA: 2s - loss: 0.1309 - acc: 0.961 - ETA: 2s - loss: 0.1303 - acc: 0.961 - ETA: 2s - loss: 0.1303 - acc: 0.961 - ETA: 1s - loss: 0.1298 - acc: 0.961 - ETA: 1s - loss: 0.1308 - acc: 0.961 - ETA: 1s - loss: 0.1307 - acc: 0.961 - ETA: 1s - loss: 0.1303 - acc: 0.961 - ETA: 1s - loss: 0.1308 - acc: 0.961 - ETA: 1s - loss: 0.1308 - acc: 0.961 - ETA: 1s - loss: 0.1310 - acc: 0.961 - ETA: 1s - loss: 0.1304 - acc: 0.961 - ETA: 1s - loss: 0.1302 - acc: 0.961 - ETA: 1s - loss: 0.1297 - acc: 0.961 - ETA: 1s - loss: 0.1289 - acc: 0.962 - ETA: 1s - loss: 0.1291 - acc: 0.962 - ETA: 1s - loss: 0.1292 - acc: 0.962 - ETA: 1s - loss: 0.1287 - acc: 0.962 - ETA: 1s - loss: 0.1284 - acc: 0.962 - ETA: 1s - loss: 0.1290 - acc: 0.962 - ETA: 1s - loss: 0.1297 - acc: 0.962 - ETA: 1s - loss: 0.1296 - acc: 0.962 - ETA: 0s - loss: 0.1292 - acc: 0.962 - ETA: 0s - loss: 0.1284 - acc: 0.962 - ETA: 0s - loss: 0.1283 - acc: 0.962 - ETA: 0s - loss: 0.1283 - acc: 0.962 - ETA: 0s - loss: 0.1287 - acc: 0.962 - ETA: 0s - loss: 0.1285 - acc: 0.962 - ETA: 0s - loss: 0.1282 - acc: 0.962 - ETA: 0s - loss: 0.1282 - acc: 0.962 - ETA: 0s - loss: 0.1284 - acc: 0.962 - ETA: 0s - loss: 0.1278 - acc: 0.962 - ETA: 0s - loss: 0.1281 - acc: 0.962 - ETA: 0s - loss: 0.1279 - acc: 0.962 - ETA: 0s - loss: 0.1279 - acc: 0.962 - ETA: 0s - loss: 0.1272 - acc: 0.963 - ETA: 0s - loss: 0.1276 - acc: 0.963 - ETA: 0s - loss: 0.1278 - acc: 0.963 - 9s 865us/step - loss: 0.1278 - acc: 0.9630\n",
      "Epoch 4/5\n"
     ]
    },
    {
     "name": "stdout",
     "output_type": "stream",
     "text": [
      "10000/10000 [==============================] - ETA: 8s - loss: 0.0874 - acc: 0.937 - ETA: 8s - loss: 0.0591 - acc: 0.979 - ETA: 8s - loss: 0.0586 - acc: 0.981 - ETA: 8s - loss: 0.0679 - acc: 0.973 - ETA: 8s - loss: 0.0856 - acc: 0.972 - ETA: 8s - loss: 0.0990 - acc: 0.968 - ETA: 8s - loss: 0.1163 - acc: 0.966 - ETA: 8s - loss: 0.1082 - acc: 0.968 - ETA: 8s - loss: 0.1069 - acc: 0.968 - ETA: 7s - loss: 0.1063 - acc: 0.970 - ETA: 7s - loss: 0.1009 - acc: 0.973 - ETA: 7s - loss: 0.0971 - acc: 0.974 - ETA: 7s - loss: 0.0943 - acc: 0.974 - ETA: 7s - loss: 0.0925 - acc: 0.975 - ETA: 7s - loss: 0.0869 - acc: 0.977 - ETA: 7s - loss: 0.0832 - acc: 0.979 - ETA: 7s - loss: 0.0842 - acc: 0.976 - ETA: 7s - loss: 0.0848 - acc: 0.976 - ETA: 7s - loss: 0.0831 - acc: 0.977 - ETA: 7s - loss: 0.0840 - acc: 0.977 - ETA: 7s - loss: 0.0811 - acc: 0.978 - ETA: 7s - loss: 0.0797 - acc: 0.979 - ETA: 7s - loss: 0.0808 - acc: 0.979 - ETA: 7s - loss: 0.0848 - acc: 0.977 - ETA: 7s - loss: 0.0848 - acc: 0.976 - ETA: 7s - loss: 0.0824 - acc: 0.977 - ETA: 7s - loss: 0.0827 - acc: 0.977 - ETA: 7s - loss: 0.0809 - acc: 0.978 - ETA: 7s - loss: 0.0800 - acc: 0.977 - ETA: 6s - loss: 0.0799 - acc: 0.977 - ETA: 6s - loss: 0.0804 - acc: 0.977 - ETA: 6s - loss: 0.0828 - acc: 0.975 - ETA: 6s - loss: 0.0827 - acc: 0.975 - ETA: 6s - loss: 0.0833 - acc: 0.975 - ETA: 6s - loss: 0.0831 - acc: 0.974 - ETA: 6s - loss: 0.0820 - acc: 0.975 - ETA: 6s - loss: 0.0838 - acc: 0.975 - ETA: 6s - loss: 0.0843 - acc: 0.975 - ETA: 6s - loss: 0.0851 - acc: 0.974 - ETA: 6s - loss: 0.0840 - acc: 0.974 - ETA: 6s - loss: 0.0834 - acc: 0.975 - ETA: 6s - loss: 0.0833 - acc: 0.975 - ETA: 6s - loss: 0.0826 - acc: 0.975 - ETA: 6s - loss: 0.0827 - acc: 0.974 - ETA: 6s - loss: 0.0822 - acc: 0.975 - ETA: 6s - loss: 0.0823 - acc: 0.975 - ETA: 6s - loss: 0.0832 - acc: 0.974 - ETA: 6s - loss: 0.0822 - acc: 0.974 - ETA: 6s - loss: 0.0834 - acc: 0.974 - ETA: 6s - loss: 0.0830 - acc: 0.974 - ETA: 6s - loss: 0.0829 - acc: 0.974 - ETA: 6s - loss: 0.0835 - acc: 0.973 - ETA: 5s - loss: 0.0865 - acc: 0.973 - ETA: 5s - loss: 0.0870 - acc: 0.973 - ETA: 5s - loss: 0.0869 - acc: 0.974 - ETA: 5s - loss: 0.0879 - acc: 0.973 - ETA: 5s - loss: 0.0880 - acc: 0.973 - ETA: 5s - loss: 0.0882 - acc: 0.973 - ETA: 5s - loss: 0.0882 - acc: 0.973 - ETA: 5s - loss: 0.0878 - acc: 0.973 - ETA: 5s - loss: 0.0882 - acc: 0.973 - ETA: 5s - loss: 0.0873 - acc: 0.973 - ETA: 5s - loss: 0.0871 - acc: 0.973 - ETA: 5s - loss: 0.0865 - acc: 0.973 - ETA: 5s - loss: 0.0866 - acc: 0.973 - ETA: 5s - loss: 0.0862 - acc: 0.973 - ETA: 5s - loss: 0.0860 - acc: 0.973 - ETA: 5s - loss: 0.0869 - acc: 0.973 - ETA: 5s - loss: 0.0862 - acc: 0.973 - ETA: 4s - loss: 0.0857 - acc: 0.973 - ETA: 4s - loss: 0.0842 - acc: 0.974 - ETA: 4s - loss: 0.0838 - acc: 0.974 - ETA: 4s - loss: 0.0832 - acc: 0.974 - ETA: 4s - loss: 0.0836 - acc: 0.974 - ETA: 4s - loss: 0.0848 - acc: 0.973 - ETA: 4s - loss: 0.0866 - acc: 0.973 - ETA: 4s - loss: 0.0858 - acc: 0.973 - ETA: 4s - loss: 0.0854 - acc: 0.973 - ETA: 4s - loss: 0.0848 - acc: 0.974 - ETA: 4s - loss: 0.0840 - acc: 0.974 - ETA: 4s - loss: 0.0844 - acc: 0.974 - ETA: 4s - loss: 0.0837 - acc: 0.974 - ETA: 4s - loss: 0.0841 - acc: 0.974 - ETA: 4s - loss: 0.0848 - acc: 0.974 - ETA: 3s - loss: 0.0842 - acc: 0.974 - ETA: 3s - loss: 0.0843 - acc: 0.974 - ETA: 3s - loss: 0.0842 - acc: 0.974 - ETA: 3s - loss: 0.0841 - acc: 0.974 - ETA: 3s - loss: 0.0845 - acc: 0.974 - ETA: 3s - loss: 0.0837 - acc: 0.974 - ETA: 3s - loss: 0.0839 - acc: 0.974 - ETA: 3s - loss: 0.0838 - acc: 0.974 - ETA: 3s - loss: 0.0847 - acc: 0.974 - ETA: 3s - loss: 0.0844 - acc: 0.974 - ETA: 3s - loss: 0.0859 - acc: 0.973 - ETA: 3s - loss: 0.0863 - acc: 0.973 - ETA: 3s - loss: 0.0869 - acc: 0.973 - ETA: 3s - loss: 0.0869 - acc: 0.973 - ETA: 3s - loss: 0.0871 - acc: 0.973 - ETA: 3s - loss: 0.0864 - acc: 0.973 - ETA: 2s - loss: 0.0862 - acc: 0.973 - ETA: 2s - loss: 0.0861 - acc: 0.973 - ETA: 2s - loss: 0.0868 - acc: 0.973 - ETA: 2s - loss: 0.0869 - acc: 0.973 - ETA: 2s - loss: 0.0864 - acc: 0.973 - ETA: 2s - loss: 0.0861 - acc: 0.973 - ETA: 2s - loss: 0.0859 - acc: 0.973 - ETA: 2s - loss: 0.0858 - acc: 0.973 - ETA: 2s - loss: 0.0865 - acc: 0.972 - ETA: 2s - loss: 0.0870 - acc: 0.972 - ETA: 2s - loss: 0.0871 - acc: 0.972 - ETA: 2s - loss: 0.0890 - acc: 0.971 - ETA: 2s - loss: 0.0889 - acc: 0.971 - ETA: 2s - loss: 0.0885 - acc: 0.971 - ETA: 2s - loss: 0.0884 - acc: 0.971 - ETA: 1s - loss: 0.0885 - acc: 0.972 - ETA: 1s - loss: 0.0883 - acc: 0.972 - ETA: 1s - loss: 0.0883 - acc: 0.972 - ETA: 1s - loss: 0.0891 - acc: 0.971 - ETA: 1s - loss: 0.0889 - acc: 0.972 - ETA: 1s - loss: 0.0890 - acc: 0.972 - ETA: 1s - loss: 0.0890 - acc: 0.971 - ETA: 1s - loss: 0.0889 - acc: 0.971 - ETA: 1s - loss: 0.0891 - acc: 0.971 - ETA: 1s - loss: 0.0890 - acc: 0.971 - ETA: 1s - loss: 0.0886 - acc: 0.972 - ETA: 1s - loss: 0.0885 - acc: 0.972 - ETA: 1s - loss: 0.0889 - acc: 0.971 - ETA: 1s - loss: 0.0886 - acc: 0.971 - ETA: 1s - loss: 0.0884 - acc: 0.972 - ETA: 1s - loss: 0.0886 - acc: 0.972 - ETA: 1s - loss: 0.0883 - acc: 0.972 - ETA: 1s - loss: 0.0883 - acc: 0.972 - ETA: 0s - loss: 0.0878 - acc: 0.972 - ETA: 0s - loss: 0.0881 - acc: 0.972 - ETA: 0s - loss: 0.0877 - acc: 0.972 - ETA: 0s - loss: 0.0874 - acc: 0.972 - ETA: 0s - loss: 0.0870 - acc: 0.972 - ETA: 0s - loss: 0.0869 - acc: 0.972 - ETA: 0s - loss: 0.0868 - acc: 0.972 - ETA: 0s - loss: 0.0864 - acc: 0.972 - ETA: 0s - loss: 0.0862 - acc: 0.972 - ETA: 0s - loss: 0.0864 - acc: 0.972 - ETA: 0s - loss: 0.0860 - acc: 0.972 - ETA: 0s - loss: 0.0857 - acc: 0.972 - ETA: 0s - loss: 0.0858 - acc: 0.972 - ETA: 0s - loss: 0.0858 - acc: 0.972 - ETA: 0s - loss: 0.0861 - acc: 0.972 - ETA: 0s - loss: 0.0864 - acc: 0.972 - ETA: 0s - loss: 0.0864 - acc: 0.972 - ETA: 0s - loss: 0.0864 - acc: 0.972 - 9s 868us/step - loss: 0.0865 - acc: 0.9725\n",
      "Epoch 5/5\n"
     ]
    },
    {
     "name": "stdout",
     "output_type": "stream",
     "text": [
      "10000/10000 [==============================] - ETA: 8s - loss: 0.0230 - acc: 1.000 - ETA: 8s - loss: 0.0898 - acc: 0.989 - ETA: 8s - loss: 0.1009 - acc: 0.962 - ETA: 8s - loss: 0.1013 - acc: 0.959 - ETA: 8s - loss: 0.0947 - acc: 0.961 - ETA: 8s - loss: 0.1111 - acc: 0.963 - ETA: 8s - loss: 0.1055 - acc: 0.963 - ETA: 8s - loss: 0.1059 - acc: 0.966 - ETA: 8s - loss: 0.0991 - acc: 0.968 - ETA: 8s - loss: 0.0961 - acc: 0.967 - ETA: 8s - loss: 0.0926 - acc: 0.968 - ETA: 7s - loss: 0.0842 - acc: 0.972 - ETA: 7s - loss: 0.0844 - acc: 0.973 - ETA: 7s - loss: 0.0811 - acc: 0.974 - ETA: 7s - loss: 0.0816 - acc: 0.974 - ETA: 7s - loss: 0.0803 - acc: 0.975 - ETA: 7s - loss: 0.0804 - acc: 0.975 - ETA: 7s - loss: 0.0829 - acc: 0.974 - ETA: 7s - loss: 0.0840 - acc: 0.975 - ETA: 7s - loss: 0.0805 - acc: 0.976 - ETA: 7s - loss: 0.0783 - acc: 0.977 - ETA: 7s - loss: 0.0785 - acc: 0.977 - ETA: 7s - loss: 0.0771 - acc: 0.978 - ETA: 7s - loss: 0.0751 - acc: 0.979 - ETA: 7s - loss: 0.0739 - acc: 0.979 - ETA: 6s - loss: 0.0720 - acc: 0.979 - ETA: 6s - loss: 0.0699 - acc: 0.979 - ETA: 6s - loss: 0.0683 - acc: 0.980 - ETA: 6s - loss: 0.0686 - acc: 0.980 - ETA: 6s - loss: 0.0684 - acc: 0.979 - ETA: 6s - loss: 0.0680 - acc: 0.979 - ETA: 6s - loss: 0.0693 - acc: 0.978 - ETA: 6s - loss: 0.0696 - acc: 0.978 - ETA: 6s - loss: 0.0699 - acc: 0.978 - ETA: 6s - loss: 0.0708 - acc: 0.977 - ETA: 6s - loss: 0.0703 - acc: 0.977 - ETA: 6s - loss: 0.0709 - acc: 0.977 - ETA: 6s - loss: 0.0704 - acc: 0.977 - ETA: 6s - loss: 0.0690 - acc: 0.977 - ETA: 6s - loss: 0.0675 - acc: 0.978 - ETA: 6s - loss: 0.0667 - acc: 0.978 - ETA: 6s - loss: 0.0657 - acc: 0.978 - ETA: 6s - loss: 0.0649 - acc: 0.979 - ETA: 5s - loss: 0.0638 - acc: 0.979 - ETA: 5s - loss: 0.0633 - acc: 0.979 - ETA: 5s - loss: 0.0626 - acc: 0.980 - ETA: 5s - loss: 0.0617 - acc: 0.980 - ETA: 5s - loss: 0.0616 - acc: 0.980 - ETA: 5s - loss: 0.0616 - acc: 0.980 - ETA: 5s - loss: 0.0608 - acc: 0.981 - ETA: 5s - loss: 0.0604 - acc: 0.981 - ETA: 5s - loss: 0.0598 - acc: 0.981 - ETA: 5s - loss: 0.0596 - acc: 0.982 - ETA: 5s - loss: 0.0590 - acc: 0.982 - ETA: 5s - loss: 0.0588 - acc: 0.982 - ETA: 5s - loss: 0.0598 - acc: 0.981 - ETA: 5s - loss: 0.0600 - acc: 0.981 - ETA: 5s - loss: 0.0601 - acc: 0.981 - ETA: 5s - loss: 0.0595 - acc: 0.981 - ETA: 5s - loss: 0.0607 - acc: 0.981 - ETA: 5s - loss: 0.0600 - acc: 0.981 - ETA: 5s - loss: 0.0598 - acc: 0.981 - ETA: 5s - loss: 0.0596 - acc: 0.981 - ETA: 4s - loss: 0.0603 - acc: 0.981 - ETA: 4s - loss: 0.0593 - acc: 0.981 - ETA: 4s - loss: 0.0603 - acc: 0.981 - ETA: 4s - loss: 0.0605 - acc: 0.981 - ETA: 4s - loss: 0.0609 - acc: 0.981 - ETA: 4s - loss: 0.0606 - acc: 0.981 - ETA: 4s - loss: 0.0607 - acc: 0.981 - ETA: 4s - loss: 0.0606 - acc: 0.981 - ETA: 4s - loss: 0.0602 - acc: 0.981 - ETA: 4s - loss: 0.0606 - acc: 0.981 - ETA: 4s - loss: 0.0613 - acc: 0.981 - ETA: 4s - loss: 0.0632 - acc: 0.980 - ETA: 4s - loss: 0.0640 - acc: 0.980 - ETA: 4s - loss: 0.0634 - acc: 0.980 - ETA: 4s - loss: 0.0646 - acc: 0.980 - ETA: 3s - loss: 0.0652 - acc: 0.980 - ETA: 3s - loss: 0.0647 - acc: 0.980 - ETA: 3s - loss: 0.0644 - acc: 0.980 - ETA: 3s - loss: 0.0655 - acc: 0.980 - ETA: 3s - loss: 0.0653 - acc: 0.980 - ETA: 3s - loss: 0.0648 - acc: 0.980 - ETA: 3s - loss: 0.0647 - acc: 0.980 - ETA: 3s - loss: 0.0643 - acc: 0.980 - ETA: 3s - loss: 0.0639 - acc: 0.980 - ETA: 3s - loss: 0.0641 - acc: 0.980 - ETA: 3s - loss: 0.0652 - acc: 0.980 - ETA: 3s - loss: 0.0647 - acc: 0.980 - ETA: 3s - loss: 0.0642 - acc: 0.981 - ETA: 3s - loss: 0.0639 - acc: 0.981 - ETA: 3s - loss: 0.0642 - acc: 0.981 - ETA: 3s - loss: 0.0638 - acc: 0.981 - ETA: 3s - loss: 0.0641 - acc: 0.981 - ETA: 3s - loss: 0.0641 - acc: 0.981 - ETA: 3s - loss: 0.0642 - acc: 0.980 - ETA: 2s - loss: 0.0645 - acc: 0.980 - ETA: 2s - loss: 0.0643 - acc: 0.981 - ETA: 2s - loss: 0.0646 - acc: 0.980 - ETA: 2s - loss: 0.0648 - acc: 0.980 - ETA: 2s - loss: 0.0647 - acc: 0.980 - ETA: 2s - loss: 0.0645 - acc: 0.980 - ETA: 2s - loss: 0.0643 - acc: 0.980 - ETA: 2s - loss: 0.0644 - acc: 0.980 - ETA: 2s - loss: 0.0643 - acc: 0.980 - ETA: 2s - loss: 0.0649 - acc: 0.980 - ETA: 2s - loss: 0.0656 - acc: 0.980 - ETA: 2s - loss: 0.0655 - acc: 0.980 - ETA: 2s - loss: 0.0653 - acc: 0.980 - ETA: 2s - loss: 0.0659 - acc: 0.980 - ETA: 2s - loss: 0.0660 - acc: 0.980 - ETA: 2s - loss: 0.0656 - acc: 0.980 - ETA: 2s - loss: 0.0662 - acc: 0.980 - ETA: 1s - loss: 0.0660 - acc: 0.980 - ETA: 1s - loss: 0.0662 - acc: 0.980 - ETA: 1s - loss: 0.0660 - acc: 0.980 - ETA: 1s - loss: 0.0657 - acc: 0.980 - ETA: 1s - loss: 0.0655 - acc: 0.980 - ETA: 1s - loss: 0.0654 - acc: 0.980 - ETA: 1s - loss: 0.0652 - acc: 0.980 - ETA: 1s - loss: 0.0651 - acc: 0.980 - ETA: 1s - loss: 0.0657 - acc: 0.980 - ETA: 1s - loss: 0.0656 - acc: 0.980 - ETA: 1s - loss: 0.0652 - acc: 0.981 - ETA: 1s - loss: 0.0648 - acc: 0.981 - ETA: 1s - loss: 0.0648 - acc: 0.981 - ETA: 1s - loss: 0.0646 - acc: 0.981 - ETA: 1s - loss: 0.0645 - acc: 0.981 - ETA: 1s - loss: 0.0644 - acc: 0.981 - ETA: 1s - loss: 0.0645 - acc: 0.981 - ETA: 1s - loss: 0.0649 - acc: 0.981 - ETA: 0s - loss: 0.0648 - acc: 0.981 - ETA: 0s - loss: 0.0650 - acc: 0.981 - ETA: 0s - loss: 0.0652 - acc: 0.980 - ETA: 0s - loss: 0.0654 - acc: 0.981 - ETA: 0s - loss: 0.0654 - acc: 0.980 - ETA: 0s - loss: 0.0652 - acc: 0.980 - ETA: 0s - loss: 0.0651 - acc: 0.980 - ETA: 0s - loss: 0.0648 - acc: 0.981 - ETA: 0s - loss: 0.0657 - acc: 0.980 - ETA: 0s - loss: 0.0656 - acc: 0.980 - ETA: 0s - loss: 0.0654 - acc: 0.980 - ETA: 0s - loss: 0.0660 - acc: 0.980 - ETA: 0s - loss: 0.0657 - acc: 0.980 - ETA: 0s - loss: 0.0657 - acc: 0.980 - ETA: 0s - loss: 0.0660 - acc: 0.980 - ETA: 0s - loss: 0.0661 - acc: 0.980 - ETA: 0s - loss: 0.0660 - acc: 0.980 - 9s 860us/step - loss: 0.0660 - acc: 0.9805\n"
     ]
    }
   ],
   "source": [
    "history=model.fit(x=x_train,y=y_train, epochs=5)"
   ]
  },
  {
   "cell_type": "code",
   "execution_count": 16,
   "metadata": {},
   "outputs": [
    {
     "name": "stdout",
     "output_type": "stream",
     "text": [
      "1000/1000 [==============================] - ETA:  - ETA:  - ETA:  - ETA:  - 0s 263us/step\n"
     ]
    },
    {
     "data": {
      "text/plain": [
       "[0.13665324056148528, 0.956]"
      ]
     },
     "execution_count": 16,
     "metadata": {},
     "output_type": "execute_result"
    }
   ],
   "source": [
    "model.evaluate(x_test, y_test)"
   ]
  },
  {
   "cell_type": "code",
   "execution_count": 17,
   "metadata": {},
   "outputs": [
    {
     "name": "stdout",
     "output_type": "stream",
     "text": [
      "5\n"
     ]
    },
    {
     "data": {
      "image/png": "[encoded data removed]",
      "text/plain": [
       "<Figure size 432x288 with 1 Axes>"
      ]
     },
     "metadata": {
      "needs_background": "light"
     },
     "output_type": "display_data"
    }
   ],
   "source": [
    "image_index = 449\n",
    "plt.imshow(x_test[image_index].reshape(28, 28),cmap='Greys')\n",
    "pred = model.predict(x_test[image_index].reshape(1, 28 , 28 , 1))\n",
    "print(pred.argmax())"
   ]
  },
  {
   "cell_type": "code",
   "execution_count": 20,
   "metadata": {},
   "outputs": [
    {
     "data": {
      "image/png": "[encoded data removed]",
      "text/plain": [
       "<Figure size 576x576 with 1 Axes>"
      ]
     },
     "metadata": {
      "needs_background": "light"
     },
     "output_type": "display_data"
    }
   ],
   "source": [
    "acc=history.history['acc']\n",
    "\n",
    "loss=history.history['loss']\n",
    "\n",
    "\n",
    "epochs_range=range(5)\n",
    "\n",
    "plt.figure(figsize=(8,8))\n",
    "plt.subplot(1,2,1)\n",
    "plt.plot(epochs_range,acc,label='Accuracy')\n",
    "plt.plot(epochs_range,loss,label='loss')\n",
    "plt.legend(loc='lower right')\n",
    "plt.title('Accuracy and Loss')\n",
    "\n",
    "plt.show()"
   ]
  },
  {
   "cell_type": "code",
   "execution_count": null,
   "metadata": {},
   "outputs": [],
   "source": []
  },
  {
   "cell_type": "code",
   "execution_count": null,
   "metadata": {},
   "outputs": [],
   "source": []
  }
 ],
 "metadata": {
  "kernelspec": {
   "display_name": "Tensorflow",
   "language": "python",
   "name": "tensorflow"
  },
  "language_info": {
   "codemirror_mode": {
    "name": "ipython",
    "version": 3
   },
   "file_extension": ".py",
   "mimetype": "text/x-python",
   "name": "python",
   "nbconvert_exporter": "python",
   "pygments_lexer": "ipython3",
   "version": "3.6.8"
  }
 },
 "nbformat": 4,
 "nbformat_minor": 2
}
